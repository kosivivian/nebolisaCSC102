{
 "cells": [
  {
   "cell_type": "markdown",
   "metadata": {},
   "source": [
    "# What is Abstraction in OOP"
   ]
  },
  {
   "cell_type": "markdown",
   "metadata": {},
   "source": [
    "<ul><li>Abstraction is the concept of object-oriented programming that “shows” only essential attributes and “hides” unnecessary information.</li><li>The main purpose of abstraction is hiding the unnecessary details from the users. </li><li> Abstraction is selecting data from a larger pool to show only relevant details of the object to the user. </li><li> It helps in reducing programming complexity and efforts. </li><li>It is one of the most important concepts of OOPs.</li></ul> "
   ]
  },
  {
   "cell_type": "markdown",
   "metadata": {},
   "source": [
    "# Abstraction in Python"
   ]
  },
  {
   "cell_type": "markdown",
   "metadata": {},
   "source": [
    "<ul><li>Abstraction in python is defined as hiding the implementation of logic from the client and using the particular application. </li><li>It hides the irrelevant data specified in the project, reducing complexity and giving value to the efficiency.</li><li> Abstraction is made in Python using <b>Abstract classes</b> and their methods in the code.</li></ul>"
   ]
  },
  {
   "cell_type": "markdown",
   "metadata": {},
   "source": [
    "## What is an Abstract Class?"
   ]
  },
  {
   "cell_type": "markdown",
   "metadata": {},
   "source": [
    "<ul><li>Abstract Class is a type of class in OOPs, that declare one or more abstract methods. </li><li>These classes can have abstract methods as well as concrete methods. </li><li>A normal class cannot have abstract methods.</li><li>An abstract class is a class that contains at least one abstract method.</li></ul>"
   ]
  },
  {
   "cell_type": "markdown",
   "metadata": {},
   "source": [
    "## What are Abstract Methods?\n",
    "<ul><li>Abstract Method is a method that has just the method definition but does not contain implementation.</li><li>A method without a body is known as an Abstract Method.</li><li>It must be declared in an abstract class.</li><li>The abstract method will never be final because the abstract class must implement all the abstract methods.</li></ul>"
   ]
  },
  {
   "cell_type": "markdown",
   "metadata": {},
   "source": [
    "## When to use Abstract Methods & Abstract Class?\n",
    "<ul><li>Abstract methods are mostly declared where two or more subclasses are also doing the same thing in different ways through different implementations.</li><li>It also extends the same Abstract class and offers different implementations of the abstract methods.</li><li>Abstract classes help to describe generic types of behaviors and object-oriented programming class hierarchy. </li><li>It also describes subclasses to offer implementation details of the abstract class.</li></ul>"
   ]
  },
  {
   "cell_type": "markdown",
   "metadata": {},
   "source": [
    "## Difference between Abstraction and Encapsulation"
   ]
  },
  {
   "cell_type": "markdown",
   "metadata": {},
   "source": [
    "<table style=\"background-color:#ffe6e6\">\n",
    "    <tr><th><b>Abstraction</b></th><th><b>Encapsulation</b></th></tr>\n",
    "    <tr><td>Abstraction in Object Oriented Programming solves the issues at the design level.</td><td>Encapsulation solves it implementation level.</td></tr>\n",
    "    <tr><td>Abstraction in Programming is about hiding unwanted details while showing most essential information.</td><td>Encapsulation means binding the code and data into a single unit.</td></tr>\n",
    "    <tr><td>Data Abstraction in Java allows focussing on what the information object must contain</td><td>Encapsulation means hiding the internal details or mechanics of how an object does something for security reasons.</td></tr>\n",
    "</table>"
   ]
  },
  {
   "cell_type": "markdown",
   "metadata": {},
   "source": [
    "## Advantages of Abstraction\n",
    "<ol><li>The main benefit of using an Abstraction in Programming is that it allows you to group several related classes as siblings.</li><li>\n",
    "Abstraction in Object Oriented Programming helps to reduce the complexity of the design and implementation process of software.</li></ol>"
   ]
  },
  {
   "cell_type": "markdown",
   "metadata": {},
   "source": [
    "## How Abstract Base classes work : \n",
    "<ul><li>By default, Python does not provide abstract classes. Python comes with a module that provides the base for defining Abstract Base classes(ABC) and that module name is ABC. </li><li>ABC works by decorating methods of the base class as abstract and then registering concrete classes as implementations of the abstract base. </li><li>A method becomes abstract when decorated with the keyword @abstractmethod.</li></ul>"
   ]
  },
  {
   "cell_type": "markdown",
   "metadata": {},
   "source": [
    "#### Syntax\n",
    "\n",
    "Abstract class Syntax is declared as:"
   ]
  },
  {
   "cell_type": "code",
   "execution_count": 4,
   "metadata": {},
   "outputs": [],
   "source": [
    "from abc import ABC, abstractmethod\n",
    "\n",
    "# declaration\n",
    "class classname(ABC):\n",
    "    pass\n",
    "        "
   ]
  },
  {
   "cell_type": "markdown",
   "metadata": {},
   "source": [
    "Abstract method Syntax is declared as"
   ]
  },
  {
   "cell_type": "code",
   "execution_count": 5,
   "metadata": {},
   "outputs": [],
   "source": [
    "def abstractmethod_name():\n",
    "    pass\n",
    "        "
   ]
  },
  {
   "cell_type": "markdown",
   "metadata": {},
   "source": [
    "### Few things to be noted in Python:\n",
    "\n",
    "<ul><li>In python, an abstract class can hold both an abstract method and a normal method.</li><li>\n",
    "The second point is an abstract class is not initiated (no objects are created).</li><li>\n",
    "The derived class implementation methods are defined in abstract base classes.</li></ul>"
   ]
  },
  {
   "cell_type": "code",
   "execution_count": 6,
   "metadata": {},
   "outputs": [],
   "source": [
    "from abc import ABC\n",
    "\n",
    "# here abc and ABC are case-sensitive. When we swap it creates"
   ]
  },
  {
   "cell_type": "markdown",
   "metadata": {},
   "source": [
    "### Code I:"
   ]
  },
  {
   "cell_type": "code",
   "execution_count": 11,
   "metadata": {},
   "outputs": [],
   "source": [
    "from abc import ABC, abstractmethod\n",
    "\n",
    "# Abstract Class\n",
    "class product():  \n",
    "    \n",
    "    \n",
    "    # Normal Method\n",
    "    def item_list(self, rate):\n",
    "        print(\"amount submitted : \",rate)\n",
    "    \n",
    "    # Abstract Method\n",
    "    @abstractmethod\n",
    "    def product(self,rate): \n",
    "        pass\n",
    "        "
   ]
  },
  {
   "cell_type": "markdown",
   "metadata": {},
   "source": [
    "### Code II:\n",
    "A program to generate the volume of geometric shapes"
   ]
  },
  {
   "cell_type": "code",
   "execution_count": 14,
   "metadata": {},
   "outputs": [
    {
     "name": "stdout",
     "output_type": "stream",
     "text": [
      "Volume of a rectangle: 144\n",
      "Volume of a circle: 2089.9840000000004\n",
      "Volume of a square: 125\n",
      "Volume of a triangle: 10.0\n"
     ]
    }
   ],
   "source": [
    "from abc import ABC\n",
    "\n",
    "class geometric():\n",
    "    \n",
    "    def volume(self):\n",
    "        #abstract method\n",
    "        pass\n",
    "    \n",
    "class Rect(geometric):\n",
    "    length = 4\n",
    "    width = 6\n",
    "    height = 6\n",
    "    \n",
    "    def volume(self):\n",
    "        return self.length * self.width *self.height\n",
    "    \n",
    "class Sphere(geometric):\n",
    "    radius = 8\n",
    "    def volume(self):\n",
    "        return 1.3 * 3.14 * self.radius * self.radius *self.radius\n",
    "    \n",
    "class Cube(geometric):\n",
    "    Edge = 5\n",
    "    def volume(self):\n",
    "        return self.Edge * self.Edge *self.Edge\n",
    "    \n",
    "class Triangle_3D:\n",
    "    length = 5\n",
    "    width = 4\n",
    "    def volume(self):\n",
    "        return 0.5 * self.length * self.width\n",
    "    \n",
    "rr = Rect()\n",
    "ss = Sphere()\n",
    "cc = Cube()\n",
    "tt = Triangle_3D()\n",
    "print(\"Volume of a rectangle:\", rr.volume())\n",
    "print(\"Volume of a circle:\", ss.volume())\n",
    "print(\"Volume of a square:\", cc.volume())\n",
    "print(\"Volume of a triangle:\", tt.volume())"
   ]
  },
  {
   "cell_type": "markdown",
   "metadata": {},
   "source": [
    "### Code III\n",
    "A program to generate different invoices"
   ]
  },
  {
   "cell_type": "code",
   "execution_count": 17,
   "metadata": {},
   "outputs": [
    {
     "name": "stdout",
     "output_type": "stream",
     "text": [
      "paycheque of:  6500\n",
      "Purchase of the product:  6500\n",
      "True\n",
      "pay through card of:  2600\n",
      "Purchase of the product:  2600\n",
      "False\n"
     ]
    }
   ],
   "source": [
    "from abc import ABC, abstractmethod\n",
    "\n",
    "class Bill(ABC):\n",
    "    def final_bill(self, pay):\n",
    "        print('Purchase of the product: ', pay)\n",
    "        \n",
    "    @abstractmethod\n",
    "    def Invoice(self, pay):\n",
    "        pass\n",
    "    \n",
    "class Paycheque(Bill):\n",
    "    def Invoice(self, pay):\n",
    "        print('paycheque of: ', pay)\n",
    "        \n",
    "class CardPayment(Bill):\n",
    "    def Invoice(self, pay):\n",
    "        print('pay through card of: ', pay)\n",
    "        \n",
    "aa = Paycheque()\n",
    "aa.Invoice(6500)\n",
    "aa.final_bill(6500)\n",
    "print(isinstance(aa,Bill))\n",
    "\n",
    "aa = CardPayment()\n",
    "aa.Invoice(2600)\n",
    "aa.final_bill(2600)\n",
    "print(isinstance(aa,Paycheque))"
   ]
  },
  {
   "cell_type": "markdown",
   "metadata": {},
   "source": [
    "### Code IV:\n",
    " Python program showing abstract base class work"
   ]
  },
  {
   "cell_type": "code",
   "execution_count": 23,
   "metadata": {},
   "outputs": [
    {
     "name": "stdout",
     "output_type": "stream",
     "text": [
      "What animal specie are you?: dog\n",
      "\n",
      " You are a dog. You can bark\n"
     ]
    }
   ],
   "source": [
    "from abc import ABC, abstractmethod\n",
    "\n",
    "class Animal(ABC):\n",
    "\n",
    "    @abstractmethod\n",
    "    def move(self):\n",
    "        pass\n",
    "\n",
    "class Human(Animal):\n",
    "    \n",
    "    def move(self,Animal):\n",
    "        print(f\"\\n You are {animal}. You can walk and run\")\n",
    "\n",
    "class Snake(Animal):\n",
    "    \n",
    "    def move(self,animal):\n",
    "        print(f\"\\n You are a {animal}. You can crawl\")\n",
    "\n",
    "class Dog(Animal):\n",
    "\n",
    "    def move(self,animal):\n",
    "        print(f\"\\n You are a {animal}. You can bark\")\n",
    "\n",
    "class Lion(Animal):\n",
    "    \n",
    "    def move(self,animal):\n",
    "        print(f\"\\n You are a {animal}. You can roar\")\n",
    "\n",
    "# Object Instantiation\n",
    "animal = input(\"What animal specie are you?: \")\n",
    "\n",
    "if animal.lower() == \"human\":\n",
    "    H = Human()\n",
    "    H.move(animal)\n",
    "elif animal.lower() == \"snake\":\n",
    "    S = Snake()\n",
    "    S.move(animal)\n",
    "elif animal.lower() == \"dog\":\n",
    "    D = Dog()\n",
    "    D.move(animal)\n",
    "elif animal.lower() == \"lion\":\n",
    "    L = Lion()\n",
    "    L.move(animal)\n",
    "else:\n",
    "    print(\"Invalid animal specie\")"
   ]
  },
  {
   "cell_type": "markdown",
   "metadata": {},
   "source": [
    "### Concrete Methods in Abstract Base Classes : \n",
    "<ul><li>Concrete (normal) classes contain only concrete (normal) methods whereas abstract classes may contain both concrete methods and abstract methods.</li><li> The concrete class provides an implementation of abstract methods, the abstract base class can also provide an implementation by invoking the methods via super().</li></ul>"
   ]
  },
  {
   "cell_type": "markdown",
   "metadata": {},
   "source": [
    "### Code V:\n",
    "Python program invoking a method using super()"
   ]
  },
  {
   "cell_type": "code",
   "execution_count": 26,
   "metadata": {},
   "outputs": [
    {
     "name": "stdout",
     "output_type": "stream",
     "text": [
      "Abstract Base Class\n",
      "subclass\n"
     ]
    }
   ],
   "source": [
    "from abc import ABC, abstractmethod\n",
    "\n",
    "class R(ABC):\n",
    "    \n",
    "    def rk(self):\n",
    "        print(\"Abstract Base Class\")\n",
    "\n",
    "class K(R):\n",
    "    def rk(self):\n",
    "        super().rk()\n",
    "        print(\"subclass\")\n",
    "\n",
    "# Object instantiation\n",
    "r = K()\n",
    "r.rk()\n"
   ]
  },
  {
   "cell_type": "markdown",
   "metadata": {},
   "source": [
    "### Code VI:"
   ]
  },
  {
   "cell_type": "code",
   "execution_count": 34,
   "metadata": {},
   "outputs": [
    {
     "name": "stdout",
     "output_type": "stream",
     "text": [
      "Total Naira Value here:  5000\n",
      "Total Naira Value here: 4800\n"
     ]
    }
   ],
   "source": [
    "from abc import ABC, abstractmethod\n",
    "\n",
    "class Bank(ABC):\n",
    "    def branch(self, Naira):\n",
    "        print(\"Fees submitted : \",Naira)\n",
    "   \n",
    "    @abstractmethod\n",
    "    def Bank(Naira):\n",
    "        pass\n",
    "        \n",
    "    \n",
    "class private(Bank):\n",
    "    def Bank(Naira):\n",
    "        print(\"Total Naira Value here: \",Naira)\n",
    "        \n",
    "class public(Bank):\n",
    "    def Bank(Naira):\n",
    "        print(\"Total Naira Value here:\",Naira)\n",
    "\n",
    "private.Bank(5000)\n",
    "public.Bank(4800)\n",
    "\n",
    "a = public()\n",
    "#a.branch(3500)"
   ]
  },
  {
   "cell_type": "markdown",
   "metadata": {},
   "source": [
    "## Class Project I"
   ]
  },
  {
   "cell_type": "markdown",
   "metadata": {},
   "source": [
    "Develop a python OOP program that creates an abstract base class called coup_de_ecriva.  The base class will have one abstract method called <b>Fan_Page</b> and four subclassses namely; <b>FC_Cirok, Madiba_FC, Blue_Jay_FC and TSG_Walker</b>. The program will receive as input the name of the club the user supports and instantiate an object that will invoke the <b>Fan_Page</b> method in the subclass that prints Welcome to <b>\"club name\"</b>.\n",
    "\n",
    "<p><b>Hint:</b></p>\n",
    "The subclasses will use <b>Single Inheritance</b> to inherit the abstract base class.\n",
    " "
   ]
  },
  {
   "cell_type": "code",
   "execution_count": 2,
   "metadata": {},
   "outputs": [
    {
     "name": "stdout",
     "output_type": "stream",
     "text": [
      "Enter your name: kosi\n",
      "Enter the club you support: \n",
      "FC Cirok \n",
      "Madiba FC \n",
      "Blue Jay FC \n",
      "TSG Walkerfc cirok\n",
      "Welcome!! This program asks for your favourite club and welcomes you to the fan page\n",
      "Welcome kosi to fc cirok\n"
     ]
    }
   ],
   "source": [
    "from abc import ABC, abstractmethod\n",
    "class coup_de_escriva(ABC):\n",
    "    \n",
    "    \n",
    "    @abstractmethod\n",
    "    def Fan_Page(self, name, choose):\n",
    "        pass\n",
    "class FC_Cirok(coup_de_escriva):\n",
    "    def Fan_Page(self, name, choose):\n",
    "        print(f\"Welcome {name} to {choose}\")\n",
    "    \n",
    "class Madiba_FC(coup_de_escriva):\n",
    "    def Fan_Page(self, name, choose):\n",
    "           print(f\"Welcome {name} to {choose}\")\n",
    "    \n",
    "class Blue_Jay_FC(coup_de_escriva):\n",
    "    def Fan_Page(self, name, choose):\n",
    "           print(f\"Welcome {name} to {choose}\")\n",
    "    \n",
    "class TSG_Walker():\n",
    "    def Fan_Page(self, name, choose):\n",
    "          print(f\"Welcome {name} to {choose}\")\n",
    "print(\"Welcome!! This program asks for your favourite club and welcomes you to the fan page\")\n",
    "name = input(\"Enter your name: \")\n",
    "choose = input(\"Enter the club you support: \\nFC Cirok \\nMadiba FC \\nBlue Jay FC \\nTSG Walker\")\n",
    "                \n",
    "\n",
    "if choose.lower() == \"fc cirok\":\n",
    "    v = FC_Cirok()\n",
    "    v.Fan_Page(name, choose)\n",
    "elif choose.lower() == \"madiba\":\n",
    "    v = Madiba()\n",
    "    v.Fan_Page(name, choose)\n",
    "elif choose.lower() == \"blue jay fc\":\n",
    "    v = Blue_Jay_FC()\n",
    "    v.Fan_Page(name, choose)\n",
    "elif choose.lower() == \"tsg walker\":\n",
    "    v = TSG_Walker()\n",
    "    v.Fan_Page(name, choose)\n",
    "else:\n",
    "    print(\"please enter one of the football clubs\")\n",
    "         \n",
    "        "
   ]
  },
  {
   "cell_type": "markdown",
   "metadata": {},
   "source": [
    "## Class Project II"
   ]
  },
  {
   "cell_type": "markdown",
   "metadata": {},
   "source": [
    "The Service Unit of PAU has contacted you to develop a program to manage some of the External Food Vendors. With your knowledge in python OOP develop a program to manage the PAU External Food Vendors. The program receives as input the vendor of interest and display the menu of the interested vendor. The External vendors are Faith hostel, Cooperative Hostel, and Student Center. Find below the menus:\n",
    "\n",
    "<table><tr><td>\n",
    "<table style=\"background-color:#47b5ff\">\n",
    "    <tr><th colspan='2'>Cooperative Cafeteria</th></tr>\n",
    "    <tr><th>Main Meal</th><th>Price (N)</th></tr>\n",
    "    <tr><td>Jollof Rice and Stew</td><td>200</td></tr>\n",
    "    <tr><td>White Rice and Stew</td><td>200</td></tr>\n",
    "    <tr><td>Fried Rice</td><td>200</td></tr>\n",
    "    <tr><td>Salad</td><td>100</td></tr>\n",
    "    <tr><td>Platain</td><td>100</td></tr>\n",
    "</table>\n",
    "    </td><td>\n",
    "<table style=\"background-color:pink\">\n",
    "    <tr><th colspan='2'>Faith Hostel Cafeteria</th></tr>\n",
    "    <tr><th>Main Meal</th><th>Price (N)</th></tr>\n",
    "    <tr><td>Fried Rice</td><td>400</td></tr>\n",
    "    <tr><td>White Rice and Stew</td><td>400</td></tr>\n",
    "    <tr><td>Jollof Rice</td><td>400</td></tr>\n",
    "    <tr><td>Beans</td><td>200</td></tr>\n",
    "    <tr><td>Chicken</td><td>1000</td></tr>\n",
    "</table>\n",
    "    </td><td>\n",
    "    <table style=\"background-color:#fcf96c\">\n",
    "    <tr><th colspan='2'>Student Centre Cafeteria</th></tr>\n",
    "    <tr><th>Main Meal</th><th>Price (N)</th></tr>\n",
    "    <tr><td>Chicken Fried Rice</td><td>800</td></tr>\n",
    "    <tr><td>Pomo Sauce</td><td>300</td></tr>\n",
    "    <tr><td>Spaghetti Jollof</td><td>500</td></tr>\n",
    "    <tr><td>Amala/Ewedu</td><td>500</td></tr>\n",
    "    <tr><td>Semo with Eforiro Soup</td><td>500</td></tr>\n",
    "</table>\n",
    "    </td></tr>\n",
    "<table>\n",
    "    \n",
    "<p><b>Hints:</b></p>\n",
    "    <ul><li>The abstract base class is called <b>External_Vendors()</b>.</li><li>\n",
    "        The abstract method is called <b>menu()</b>.</li><li>\n",
    "The subclasses (the different vendors) will inherit the abstract base class.</li><li>\n",
    "        Each subclass will have a normal method called <b>menu()</b>.</li></ul>\n",
    "    \n",
    "       "
   ]
  },
  {
   "cell_type": "code",
   "execution_count": 3,
   "metadata": {},
   "outputs": [
    {
     "name": "stdout",
     "output_type": "stream",
     "text": [
      "HELLO! THIS PROGRAM MANAGES THE PAU EXTERNAL FOOD VENDORS\n",
      "Which vendor are you interested in?: \n",
      "1 for Cooperative Cafeteria\n",
      "2 for Faith Hostel Cafeteria\n",
      "3 for Student Centre Cafeteria1\n",
      "FOOD MENU\n"
     ]
    },
    {
     "ename": "AttributeError",
     "evalue": "module 'pandas' has no attribute 'Dataframe'",
     "output_type": "error",
     "traceback": [
      "\u001b[1;31m---------------------------------------------------------------------------\u001b[0m",
      "\u001b[1;31mAttributeError\u001b[0m                            Traceback (most recent call last)",
      "Cell \u001b[1;32mIn[3], line 34\u001b[0m\n\u001b[0;32m     32\u001b[0m     select \u001b[38;5;241m=\u001b[39m cooperative_()\n\u001b[0;32m     33\u001b[0m     select\u001b[38;5;241m.\u001b[39mmenu(show)\n\u001b[1;32m---> 34\u001b[0m     fg \u001b[38;5;241m=\u001b[39m \u001b[43mpd\u001b[49m\u001b[38;5;241;43m.\u001b[39;49m\u001b[43mDataframe\u001b[49m(lyst)\n\u001b[0;32m     35\u001b[0m     \u001b[38;5;28mprint\u001b[39m(fg)\n\u001b[0;32m     36\u001b[0m \u001b[38;5;28;01melif\u001b[39;00m show \u001b[38;5;241m==\u001b[39m \u001b[38;5;241m2\u001b[39m:\n",
      "File \u001b[1;32m~\\anaconda3\\lib\\site-packages\\pandas\\__init__.py:264\u001b[0m, in \u001b[0;36m__getattr__\u001b[1;34m(name)\u001b[0m\n\u001b[0;32m    260\u001b[0m     \u001b[38;5;28;01mfrom\u001b[39;00m \u001b[38;5;21;01mpandas\u001b[39;00m\u001b[38;5;21;01m.\u001b[39;00m\u001b[38;5;21;01mcore\u001b[39;00m\u001b[38;5;21;01m.\u001b[39;00m\u001b[38;5;21;01marrays\u001b[39;00m\u001b[38;5;21;01m.\u001b[39;00m\u001b[38;5;21;01msparse\u001b[39;00m \u001b[38;5;28;01mimport\u001b[39;00m SparseArray \u001b[38;5;28;01mas\u001b[39;00m _SparseArray\n\u001b[0;32m    262\u001b[0m     \u001b[38;5;28;01mreturn\u001b[39;00m _SparseArray\n\u001b[1;32m--> 264\u001b[0m \u001b[38;5;28;01mraise\u001b[39;00m \u001b[38;5;167;01mAttributeError\u001b[39;00m(\u001b[38;5;124mf\u001b[39m\u001b[38;5;124m\"\u001b[39m\u001b[38;5;124mmodule \u001b[39m\u001b[38;5;124m'\u001b[39m\u001b[38;5;124mpandas\u001b[39m\u001b[38;5;124m'\u001b[39m\u001b[38;5;124m has no attribute \u001b[39m\u001b[38;5;124m'\u001b[39m\u001b[38;5;132;01m{\u001b[39;00mname\u001b[38;5;132;01m}\u001b[39;00m\u001b[38;5;124m'\u001b[39m\u001b[38;5;124m\"\u001b[39m)\n",
      "\u001b[1;31mAttributeError\u001b[0m: module 'pandas' has no attribute 'Dataframe'"
     ]
    }
   ],
   "source": [
    "import pandas as pd\n",
    "from abc import ABC, abstractmethod\n",
    "class External_Vendors(ABC):\n",
    "    def menu(self, show):\n",
    "        pass\n",
    "    \n",
    "class cooperative_(External_Vendors):\n",
    "    def menu(self, show):\n",
    "        print(\"FOOD MENU\")\n",
    "        lyst = {'Name of Meal':['Jollof Rice and Stew','White Rice and Stew','Fried Rice','Salad','Plantain'],\n",
    "               'Price':['200','200','200','100','100']}\n",
    "        \n",
    "class faithhostel_(External_Vendors):\n",
    "    def menu(self, show):\n",
    "        print(\"FOOD MENU\")\n",
    "        lyst = {'Name of Meal':['Fried Rice','White Rice and Stew','Jollof Rice','Beans','Chicken'],\n",
    "               'Price':['400','400','400','200','1000']}\n",
    "        \n",
    "        \n",
    "class studentcentre_(External_Vendors):\n",
    "    def menu(self, show):\n",
    "        print(\"FOOD MENU\")\n",
    "        lyst = {'Name of Meal':['Chicken Fried Rice','Pomo Sauce','Spagehetti Jollof','Amala/Ewedu','Semo with Eforiro Soup'],\n",
    "               'Price':['800','300','500','500','500']}\n",
    "\n",
    "\n",
    "\n",
    "#welcome the user\n",
    "print(\"HELLO! THIS PROGRAM MANAGES THE PAU EXTERNAL FOOD VENDORS\")\n",
    "show = int(input(\"Which vendor are you interested in?: \\n1 for Cooperative Cafeteria\\n2 for Faith Hostel Cafeteria\\n3 for Student Centre Cafeteria \"))\n",
    "if show == 1:\n",
    "    select = cooperative_()\n",
    "    select.menu(show)\n",
    "    fg = pd.Dataframe(lyst)\n",
    "    print(fg)\n",
    "elif show == 2:\n",
    "    select = cooperative_()\n",
    "    select.menu(show)\n",
    "    fg = pd.Dataframe(lyst)\n",
    "    fg\n",
    "elif show == 3:\n",
    "    select = cooperative_()\n",
    "    select.menu(show)\n",
    "    fg = pd.Dataframe(lyst)\n",
    "    fg\n",
    "else:\n",
    "    print(\"Please input one of the vendors\")"
   ]
  },
  {
   "cell_type": "code",
   "execution_count": null,
   "metadata": {},
   "outputs": [],
   "source": []
  }
 ],
 "metadata": {
  "kernelspec": {
   "display_name": "Python 3 (ipykernel)",
   "language": "python",
   "name": "python3"
  },
  "language_info": {
   "codemirror_mode": {
    "name": "ipython",
    "version": 3
   },
   "file_extension": ".py",
   "mimetype": "text/x-python",
   "name": "python",
   "nbconvert_exporter": "python",
   "pygments_lexer": "ipython3",
   "version": "3.10.9"
  }
 },
 "nbformat": 4,
 "nbformat_minor": 4
}
