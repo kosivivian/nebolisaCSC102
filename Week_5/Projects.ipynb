{
 "cells": [
  {
   "cell_type": "code",
   "execution_count": 7,
   "id": "0518335d",
   "metadata": {
    "scrolled": true
   },
   "outputs": [
    {
     "name": "stdout",
     "output_type": "stream",
     "text": [
      "Welcome to Computer Science department\n",
      "\n",
      "This program displays the names, ages, heights, and scores of all students\n",
      "\n",
      "Table below shows the list of girls\n",
      "name_g | age_g | height_g | score_g\n",
      "Samantha | 17 | 5.5 | 80\n",
      "Jada | 16 | 6.0 | 85\n",
      "Jane | 17 | 5.4 | 70\n",
      "Claire | 18 | 5.9 | 60\n",
      "Elizabeth | 16 | 5.6 | 76\n",
      "Mary | 18 | 5.5 | 66\n",
      "Susan | 17 | 6.1 | 87\n",
      "Waje | 20 | 6.0 | 95\n",
      "Taibat | 19 | 5.7 | 50\n",
      "Lilian | 17 | 5.5 | 49\n",
      "\n",
      "Table below shows the list of boys\n",
      "name_b | age_b | height_b | score_b\n",
      "Charles | 19 | 5.7 | 74\n",
      "Jude | 16 | 5.9 | 87\n",
      "James | 18 | 5.8 | 75\n",
      "Kelvin | 17 | 6.1 | 68\n",
      "Biodun | 20 | 5.9 | 66\n",
      "Wale | 19 | 5.5 | 78\n",
      "Kunle | 16 | 6.1 | 87\n",
      "Matthew | 18 | 5.4 | 98\n",
      "Tom | 17 | 5.8 | 54\n",
      "Kayode | 19 | 5.7 | 60\n"
     ]
    }
   ],
   "source": [
    "print(\"Welcome to Computer Science department\")\n",
    "print()\n",
    "print(\"This program displays the names, ages, heights, and scores of all students\")\n",
    "print()\n",
    "print(\"Table below shows the list of girls\")\n",
    "\n",
    "name_g = [\"Samantha\", \"Jada\", \"Jane\", \"Claire\", \"Elizabeth\", \"Mary\", \"Susan\", \"Waje\", \"Taibat\", \"Lilian\"]\n",
    "age_g = [\"17\", \"16\", \"17\", \"18\", \"16\", \"18\", \"17\", \"20\", \"19\", \"17\"]\n",
    "height_g = [\"5.5\", \"6.0\", \"5.4\", \"5.9\", \"5.6\", \"5.5\", \"6.1\", \"6.0\", \"5.7\", \"5.5\"]\n",
    "score_g = [\"80\", \"85\", \"70\" , \"60\", \"76\", \"66\", \"87\", \"95\", \"50\", \"49\"]\n",
    "print(\"name_g | age_g | height_g | score_g\")\n",
    "for i in range(len(name_g)):\n",
    "    print(name_g[i], \"|\", age_g[i], \"|\", height_g[i], \"|\", score_g[i])\n",
    "print()\n",
    "\n",
    "print(\"Table below shows the list of boys\")\n",
    "\n",
    "name_b = [\"Charles\", \"Jude\", \"James\", \"Kelvin\", \"Biodun\", \"Wale\", \"Kunle\", \"Matthew\", \"Tom\", \"Kayode\"]\n",
    "age_b = [\"19\",\"16\",\"18\",\"17\",\"20\",\"19\",\"16\",\"18\",\"17\",\"19\"]\n",
    "height_b = [\"5.7\",\"5.9\",\"5.8\",\"6.1\",\"5.9\",\"5.5\",\"6.1\",\"5.4\",\"5.8\",\"5.7\"]\n",
    "score_b = [\"74\",\"87\",\"75\",\"68\",\"66\",\"78\",\"87\",\"98\",\"54\",\"60\"]\n",
    "print(\"name_b | age_b | height_b | score_b\")\n",
    "for i in range(len(name_b)):\n",
    "    print(name_b[i], \"|\", age_b[i], \"|\", height_b[i], \"|\", score_b[i])"
   ]
  },
  {
   "cell_type": "code",
   "execution_count": 9,
   "id": "0d234159",
   "metadata": {},
   "outputs": [
    {
     "ename": "SyntaxError",
     "evalue": "expected ':' (1274471137.py, line 14)",
     "output_type": "error",
     "traceback": [
      "\u001b[1;36m  Cell \u001b[1;32mIn[9], line 14\u001b[1;36m\u001b[0m\n\u001b[1;33m    else age < 35 and exp < 10:\u001b[0m\n\u001b[1;37m         ^\u001b[0m\n\u001b[1;31mSyntaxError\u001b[0m\u001b[1;31m:\u001b[0m expected ':'\n"
     ]
    }
   ],
   "source": [
    "print(\"This program assigns a staff annual tax revenue based on their age and years of experience\")\n",
    "print()\n",
    "print(\"Enter your age: \")\n",
    "age = int(input())\n",
    "print(\"Enter your number of years of experience:\")\n",
    "exp = int(input())\n",
    "\n",
    "if age >= 55 and exp > 25:\n",
    "    print(\"Your annual tax revenue is N5,600,000\")\n",
    "elif age >= 45 and exp > 20 and exp <= 25:\n",
    "    print(\"Your annual tax revenue is N4,480,000\")\n",
    "elif age >= 35 and exp > 10 and exp <= 20:\n",
    "    print(\"Your annual tax revenue is N1,500,000\")\n",
    "else age < 35 and exp < 10:\n",
    "    print(\"Your annual tax revenue is N550,000\")"
   ]
  },
  {
   "cell_type": "code",
   "execution_count": null,
   "id": "1f48a062",
   "metadata": {},
   "outputs": [],
   "source": []
  }
 ],
 "metadata": {
  "kernelspec": {
   "display_name": "Python 3 (ipykernel)",
   "language": "python",
   "name": "python3"
  },
  "language_info": {
   "codemirror_mode": {
    "name": "ipython",
    "version": 3
   },
   "file_extension": ".py",
   "mimetype": "text/x-python",
   "name": "python",
   "nbconvert_exporter": "python",
   "pygments_lexer": "ipython3",
   "version": "3.10.9"
  }
 },
 "nbformat": 4,
 "nbformat_minor": 5
}
