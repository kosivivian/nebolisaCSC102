{
 "cells": [
  {
   "cell_type": "code",
   "execution_count": 1,
   "id": "a3ec03db",
   "metadata": {},
   "outputs": [
    {
     "name": "stdout",
     "output_type": "stream",
     "text": [
      "10\n",
      "20\n",
      "30\n",
      "40\n",
      "50\n"
     ]
    }
   ],
   "source": [
    "# print the given sequence of numbers using for loop\n",
    "count = [10,20,30,40,50]\n",
    "for num in count:\n",
    "    print(num)"
   ]
  },
  {
   "cell_type": "code",
   "execution_count": 2,
   "id": "e06805b9",
   "metadata": {},
   "outputs": [
    {
     "name": "stdout",
     "output_type": "stream",
     "text": [
      "10\n",
      "20\n",
      "30\n",
      "40\n"
     ]
    }
   ],
   "source": [
    "#print multiples of 10 for numbers in a given range\n",
    "for num in range(5):\n",
    "    if num > 0:\n",
    "        print(num * 10)"
   ]
  },
  {
   "cell_type": "code",
   "execution_count": 3,
   "id": "38d9c3b5",
   "metadata": {},
   "outputs": [
    {
     "name": "stdout",
     "output_type": "stream",
     "text": [
      "1\n",
      "5\n",
      "9\n"
     ]
    }
   ],
   "source": [
    "# print first 5 natural numbers using while loop\n",
    "count = 1\n",
    "while count <= 10:\n",
    "    print(count)\n",
    "    count +=4\n",
    "    "
   ]
  },
  {
   "cell_type": "code",
   "execution_count": null,
   "id": "4c8824bc",
   "metadata": {},
   "outputs": [
    {
     "name": "stdout",
     "output_type": "stream",
     "text": [
      "Enter numbers to find their sum, negative number ends the loop:\n",
      "4\n",
      "6\n"
     ]
    }
   ],
   "source": [
    "entry = 0\n",
    "sum1 = 0\n",
    "print(\"Enter numbers to find their sum, negative number ends the loop:\")\n",
    "while True:\n",
    "    #int() typecasts string to integer\n",
    "    entry = int(input())\n",
    "    if (entry < 0):\n",
    "        break\n",
    "    sum1 += entry\n",
    "print(f\"Sum = {sum1}\")"
   ]
  },
  {
   "cell_type": "code",
   "execution_count": 1,
   "id": "82427181",
   "metadata": {},
   "outputs": [
    {
     "name": "stdout",
     "output_type": "stream",
     "text": [
      "iteration1of outer loop\n",
      "1\n",
      "2\n",
      "out of inner loop\n",
      "iteration2of outer loop\n",
      "1\n",
      "2\n",
      "out of inner loop\n",
      "iteration3of outer loop\n",
      "1\n",
      "2\n",
      "out of inner loop\n",
      "Out of outer loop\n"
     ]
    }
   ],
   "source": [
    "for var1 in range(3):\n",
    "    print(\"iteration\" + str(var1 + 1) + \"of outer loop\")\n",
    "    for var2 in range(2): #nested loop\n",
    "        print(var2 + 1)\n",
    "    print(\"out of inner loop\")\n",
    "print(\"Out of outer loop\")"
   ]
  },
  {
   "cell_type": "code",
   "execution_count": 6,
   "id": "dfa17e2e",
   "metadata": {},
   "outputs": [
    {
     "name": "stdout",
     "output_type": "stream",
     "text": [
      "Enter name of City 1: lagos\n",
      "Enter name of City 2: abuja\n",
      "The name of City 1 after swapping is abuja\n",
      "The name of City 2 after swapping is lagos\n"
     ]
    }
   ],
   "source": [
    "# python program to swap two cities\n",
    "\n",
    "# to take inputs from the user\n",
    "city_1 = input(\"Enter name of City 1: \")\n",
    "city_2 = input(\"Enter name of City 2: \")\n",
    "\n",
    "# create a temporary variable and swap the cities\n",
    "temp = city_1\n",
    "city_1 = city_2\n",
    "city_2 = temp\n",
    "\n",
    "print(f\"The name of City 1 after swapping is {city_1}\")\n",
    "print(f\"The name of City 2 after swapping is {city_2}\")"
   ]
  },
  {
   "cell_type": "code",
   "execution_count": 8,
   "id": "8240aff3",
   "metadata": {},
   "outputs": [
    {
     "name": "stdout",
     "output_type": "stream",
     "text": [
      "Enter a number-6\n",
      "negative number\n"
     ]
    }
   ],
   "source": [
    "# program to check if a number is positive, negative or 0\n",
    "\n",
    "num = float(input(\"Enter a number\"))\n",
    "if num > 0:\n",
    "    print(\"Positive number\")\n",
    "elif num == 0:\n",
    "    print(\"zero\")\n",
    "else:\n",
    "    print(\"negative number\")"
   ]
  },
  {
   "cell_type": "code",
   "execution_count": 9,
   "id": "104ee3ec",
   "metadata": {},
   "outputs": [
    {
     "name": "stdout",
     "output_type": "stream",
     "text": [
      "Welcome to the COUPE DE ESCRIVA 2023: FOOTBALL PICKS \n",
      "\n",
      "Madiba:  Chubby Obiora-Okafor\n",
      "Blue-Jays:  Christopher Uweh\n",
      "Cirok:  Alexander\n",
      "TSG Walkers:  Ikechukwu\n",
      "\n",
      "\n",
      "Madiba:  Chubby Obiora-Okafor\n",
      "Blue-Jays:  Oladimeji Abaniwonda/Jeffery Awagu\n",
      "Cirok:  Timileyin Pearse/Izuako Jeremy\n",
      "TSG Walkers:  Ayomide Ojituku\n"
     ]
    }
   ],
   "source": [
    "# COUPE DE ESCRIVA 2023: FOOTBALL PICKS\n",
    "\n",
    "print(\"Welcome to the COUPE DE ESCRIVA 2023: FOOTBALL PICKS \\n\")\n",
    "\n",
    "captain = {\"Madiba: \": \"Chubby Obiora-Okafor\", \"Blue-Jays: \": \"Christopher Uweh\",\n",
    "           \"Cirok: \": \"Alexander\", \"TSG Walkers: \": \"Ikechukwu\"}\n",
    "\n",
    "goalkeepers = {\"Madiba: \": \"Chubby Obiora-Okafor\",\n",
    "               \"Blue-Jays: \": \"Oladimeji Abaniwonda/Jeffery Awagu\",\n",
    "               \"Cirok: \": \"Timileyin Pearse/Izuako Jeremy\",\n",
    "               \"TSG Walkers: \": \"Ayomide Ojituku\"}\n",
    "\n",
    "for pick in captain:\n",
    "    print(pick, captain[pick])\n",
    "    \n",
    "print(\"\\n\")\n",
    "\n",
    "for pick in goalkeepers:\n",
    "    print(pick, goalkeepers[pick])"
   ]
  },
  {
   "cell_type": "code",
   "execution_count": 2,
   "id": "c2edd1ed",
   "metadata": {},
   "outputs": [
    {
     "name": "stdout",
     "output_type": "stream",
     "text": [
      "num has value 1\n",
      "num has value 2\n",
      "num has value 4\n",
      "num has value 5\n",
      "num has value 6\n",
      "end of loop\n"
     ]
    }
   ],
   "source": [
    "num = 0\n",
    "for num in range(6):\n",
    "    num = num + 1\n",
    "    if num == 3:\n",
    "        continue\n",
    "    print(\"num has value \" +str(num))\n",
    "print(\"end of loop\")"
   ]
  },
  {
   "cell_type": "code",
   "execution_count": 9,
   "id": "95e63a39",
   "metadata": {},
   "outputs": [
    {
     "name": "stdout",
     "output_type": "stream",
     "text": [
      "output is: \n",
      "10\n",
      "output is: \n",
      "30\n",
      "40\n",
      "60\n"
     ]
    }
   ],
   "source": [
    "def printinfo(arg1, *vartuple):\n",
    "    print(\"output is: \")\n",
    "    print(arg1)\n",
    "    for var in vartuple:\n",
    "        print(var)\n",
    "    return;\n",
    "printinfo(10);\n",
    "printinfo(30, 40, 60)"
   ]
  },
  {
   "cell_type": "code",
   "execution_count": null,
   "id": "12c4698e",
   "metadata": {},
   "outputs": [],
   "source": []
  }
 ],
 "metadata": {
  "kernelspec": {
   "display_name": "Python 3 (ipykernel)",
   "language": "python",
   "name": "python3"
  },
  "language_info": {
   "codemirror_mode": {
    "name": "ipython",
    "version": 3
   },
   "file_extension": ".py",
   "mimetype": "text/x-python",
   "name": "python",
   "nbconvert_exporter": "python",
   "pygments_lexer": "ipython3",
   "version": "3.10.9"
  }
 },
 "nbformat": 4,
 "nbformat_minor": 5
}
