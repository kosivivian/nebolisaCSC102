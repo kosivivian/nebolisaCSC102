{
 "cells": [
  {
   "cell_type": "code",
   "execution_count": null,
   "id": "b20e2b16",
   "metadata": {},
   "outputs": [],
   "source": [
    "def company():\n",
    "    nam = input(\"What is your name?\")\n",
    "    dep = input(\"What is your department?\")\n",
    "    \n",
    "import csv\n",
    "print(\"Welcome to JT Ventures delivery company!\")\n",
    "print()\n",
    "print(\"This program checks if you are an employee\")\n",
    "y = \"yes\"\n",
    "n = \"no\"\n",
    "a = input(\"do you want to continue?( y if yes and n if no)\")\n",
    "\n",
    "if a == y:\n",
    "    company(nam, dep)\n",
    "    e_list = open(\"jt.ventures.csv\",\"r\")\n",
    "    read = csv.read(e_list)\n",
    "\n",
    "else:\n",
    "    print(\"Thank you for your time!\")\n",
    "    "
   ]
  },
  {
   "cell_type": "code",
   "execution_count": 7,
   "id": "22b2c856",
   "metadata": {},
   "outputs": [
    {
     "name": "stdout",
     "output_type": "stream",
     "text": [
      "Welcome to Yega Services\n",
      "\n",
      "This progam allows you to enter your location and package weight for delivery payment\n",
      "Where do you stay? (Ibeju_lekki or Epe) Epe\n",
      "Enter the weight of the package 45\n",
      "Your delivery payment is #2000\n"
     ]
    }
   ],
   "source": [
    "print(\"Welcome to Yega Services\")\n",
    "print()\n",
    "print(\"This progam allows you to enter your location and package weight for delivery payment\")\n",
    "\n",
    "location = input(\"Where do you stay? (Ibeju_lekki or Epe) \")\n",
    "weight = int(input(\"Enter the weight of the package \"))\n",
    "if location == \"Ibeju_leki\" and weight == 10 or weight > 10:\n",
    "    print(\"Your delivery payment is #2000\")\n",
    "elif location == \"Ibeju_lekki\" and weight < 10:\n",
    "    print(\"Your delivery payment is #1500\")\n",
    "elif location == \"Epe\" and weight == 10 or weight > 10:\n",
    "    print(\"Your delivery payment is #5000\")\n",
    "elif location == \"Epe\" and weight < 10:\n",
    "    print(\"Your delivery payment is #4000\")\n",
    "else:\n",
    "    print(\"Please put in either of the locations above in the correct spelling\")\n",
    "    "
   ]
  },
  {
   "cell_type": "code",
   "execution_count": null,
   "id": "b1ad5a54",
   "metadata": {},
   "outputs": [],
   "source": [
    "print(\"Welcome! this program checks your requirement for admission into either computer science or mass communication\")\n",
    "course = input(\"What course are you applying for? (C for Computer Science and M for Mass Communication)\")\n",
    "C = \"Computer Science\"\n",
    "M = \"Mass Communication\"\n",
    "if course = \"C\":\n",
    "    check_c()\n",
    "elif course = \"M\":\n",
    "    check_m()\n",
    "else:\n",
    "    print(\"Please choose one of the letters C or M\")\n",
    "\n",
    "def check_c()\n",
    "j_score = input(\"What was your jamb score?\")\n",
    "print(\"Write your grade(A,B,C,D,E,F) in the following subjects: \")\n",
    "M = input(\"Mathematics\")\n",
    "P = input(\"Physics\")\n",
    "B = input(\"ICT\")\n",
    "C = input(\"Chemistry\")\n",
    "E = input(\"English Language\")\n",
    "\n",
    "interview = input(\"Did you pass the interview ( y or n)\")\n",
    "y = \"yes\"\n",
    "n = \"no\"\n",
    "\n",
    "if M == \"A\" or M == \"B\" or M == \"C\" and P == \"A\" or P == \"B\" or P == \"C\" and B == \"A\" or B == \"B\" or B == \"C\" and C == \"A\" or C == \"B\" OR C == \"C\" and E == \"A\" or E == \"B\" or E == \"C\" and interview == \"y\":\n",
    "    print(\"You are successfully admitted to study Computer Science!!\")\n",
    "    \n",
    "else:\n",
    "    print(\"Unfortunately you did not make it\")\n",
    "    \n",
    "\n",
    "def check_m()\n",
    "j_score = input(\"What was your jamb score?\")\n",
    "print(\"Write your grade(A,B,C,D,E,F) in the following subjects: \")\n",
    "m = input(\"Mathematics\")\n",
    "L = input(\"Literature\")\n",
    "G = input(\"Government\")\n",
    "B = input(\"Bible Knowledge\")\n",
    "e = input(\"English Language\")\n",
    "\n"
   ]
  },
  {
   "cell_type": "code",
   "execution_count": null,
   "id": "f79157bb",
   "metadata": {},
   "outputs": [],
   "source": []
  }
 ],
 "metadata": {
  "kernelspec": {
   "display_name": "Python 3 (ipykernel)",
   "language": "python",
   "name": "python3"
  },
  "language_info": {
   "codemirror_mode": {
    "name": "ipython",
    "version": 3
   },
   "file_extension": ".py",
   "mimetype": "text/x-python",
   "name": "python",
   "nbconvert_exporter": "python",
   "pygments_lexer": "ipython3",
   "version": "3.10.9"
  }
 },
 "nbformat": 4,
 "nbformat_minor": 5
}
