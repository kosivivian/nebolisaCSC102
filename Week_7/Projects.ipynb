{
 "cells": [
  {
   "cell_type": "code",
   "execution_count": 8,
   "id": "b20e2b16",
   "metadata": {},
   "outputs": [
    {
     "name": "stdout",
     "output_type": "stream",
     "text": [
      "Welcome to JT Ventures delivery company!\n",
      "\n",
      "This program checks if you are an employee\n",
      "What is your surname?Adeniran\n",
      "What is your first name?Oluwatamilore\n",
      "What is your department?Logistics\n"
     ]
    },
    {
     "ename": "ValueError",
     "evalue": "The truth value of a Series is ambiguous. Use a.empty, a.bool(), a.item(), a.any() or a.all().",
     "output_type": "error",
     "traceback": [
      "\u001b[1;31m---------------------------------------------------------------------------\u001b[0m",
      "\u001b[1;31mValueError\u001b[0m                                Traceback (most recent call last)",
      "Cell \u001b[1;32mIn[8], line 14\u001b[0m\n\u001b[0;32m      9\u001b[0m dep \u001b[38;5;241m=\u001b[39m \u001b[38;5;28mstr\u001b[39m\u001b[38;5;241m.\u001b[39mcasefold(\u001b[38;5;28minput\u001b[39m(\u001b[38;5;124m\"\u001b[39m\u001b[38;5;124mWhat is your department?\u001b[39m\u001b[38;5;124m\"\u001b[39m))\n\u001b[0;32m     11\u001b[0m data \u001b[38;5;241m=\u001b[39m pd\u001b[38;5;241m.\u001b[39mread_csv(\u001b[38;5;124m'\u001b[39m\u001b[38;5;124mjt-ventures.csv\u001b[39m\u001b[38;5;124m'\u001b[39m)\n\u001b[1;32m---> 14\u001b[0m \u001b[38;5;28;01mif\u001b[39;00m ((data[\u001b[38;5;124m\"\u001b[39m\u001b[38;5;124mSURNAME\u001b[39m\u001b[38;5;124m\"\u001b[39m] \u001b[38;5;241m==\u001b[39m nam) \u001b[38;5;129;01mand\u001b[39;00m (data[\u001b[38;5;124m\"\u001b[39m\u001b[38;5;124mDEPARTMENT\u001b[39m\u001b[38;5;124m\"\u001b[39m] \u001b[38;5;241m==\u001b[39m dep))\u001b[38;5;241m.\u001b[39many():\n\u001b[0;32m     16\u001b[0m     \u001b[38;5;28mprint\u001b[39m(\u001b[38;5;124mf\u001b[39m\u001b[38;5;124m\"\u001b[39m\u001b[38;5;124mWelcome \u001b[39m\u001b[38;5;132;01m{\u001b[39;00mnam,nam2\u001b[38;5;132;01m}\u001b[39;00m\u001b[38;5;124m\"\u001b[39m)\n\u001b[0;32m     18\u001b[0m \u001b[38;5;28;01melse\u001b[39;00m:\n",
      "File \u001b[1;32m~\\anaconda3\\lib\\site-packages\\pandas\\core\\generic.py:1527\u001b[0m, in \u001b[0;36mNDFrame.__nonzero__\u001b[1;34m(self)\u001b[0m\n\u001b[0;32m   1525\u001b[0m \u001b[38;5;129m@final\u001b[39m\n\u001b[0;32m   1526\u001b[0m \u001b[38;5;28;01mdef\u001b[39;00m \u001b[38;5;21m__nonzero__\u001b[39m(\u001b[38;5;28mself\u001b[39m) \u001b[38;5;241m-\u001b[39m\u001b[38;5;241m>\u001b[39m NoReturn:\n\u001b[1;32m-> 1527\u001b[0m     \u001b[38;5;28;01mraise\u001b[39;00m \u001b[38;5;167;01mValueError\u001b[39;00m(\n\u001b[0;32m   1528\u001b[0m         \u001b[38;5;124mf\u001b[39m\u001b[38;5;124m\"\u001b[39m\u001b[38;5;124mThe truth value of a \u001b[39m\u001b[38;5;132;01m{\u001b[39;00m\u001b[38;5;28mtype\u001b[39m(\u001b[38;5;28mself\u001b[39m)\u001b[38;5;241m.\u001b[39m\u001b[38;5;18m__name__\u001b[39m\u001b[38;5;132;01m}\u001b[39;00m\u001b[38;5;124m is ambiguous. \u001b[39m\u001b[38;5;124m\"\u001b[39m\n\u001b[0;32m   1529\u001b[0m         \u001b[38;5;124m\"\u001b[39m\u001b[38;5;124mUse a.empty, a.bool(), a.item(), a.any() or a.all().\u001b[39m\u001b[38;5;124m\"\u001b[39m\n\u001b[0;32m   1530\u001b[0m     )\n",
      "\u001b[1;31mValueError\u001b[0m: The truth value of a Series is ambiguous. Use a.empty, a.bool(), a.item(), a.any() or a.all()."
     ]
    }
   ],
   "source": [
    "import pandas as pd    \n",
    "import csv\n",
    "print(\"Welcome to JT Ventures delivery company!\")\n",
    "print()\n",
    "print(\"This program checks if you are an employee\")\n",
    "\n",
    "nam = str.casefold(input(\"What is your surname?\"))\n",
    "nam2 = str.casefold(input(\"What is your first name?\"))\n",
    "dep = str.casefold(input(\"What is your department?\"))\n",
    "\n",
    "data = pd.read_csv('jt-ventures.csv')\n",
    "    \n",
    "    \n",
    "if ((data[\"SURNAME\"] == nam) and (data[\"DEPARTMENT\"] == dep)).any():\n",
    "       \n",
    "    print(f\"Welcome {nam,nam2}\")\n",
    "    data\n",
    "    \n",
    "else:\n",
    "        print(\"Name does not exist in file\")\n",
    "    "
   ]
  },
  {
   "cell_type": "code",
   "execution_count": null,
   "id": "22b2c856",
   "metadata": {},
   "outputs": [
    {
     "name": "stdout",
     "output_type": "stream",
     "text": [
      "Welcome to Yega Services\n",
      "\n",
      "This progam allows you to enter your location and package weight for delivery payment\n"
     ]
    }
   ],
   "source": [
    "print(\"Welcome to Yega Services\")\n",
    "print()\n",
    "print(\"This progam allows you to enter your location and package weight for delivery payment\")\n",
    "\n",
    "location = input(\"Where do you stay? (Ibeju_lekki or Epe) \")\n",
    "weight = int(input(\"Enter the weight of the package \"))\n",
    "if location == \"Ibeju_leki\" and weight == 10 or weight > 10:\n",
    "    print(\"Your delivery payment is #2000\")\n",
    "elif location == \"Ibeju_lekki\" and weight < 10:\n",
    "    print(\"Your delivery payment is #1500\")\n",
    "elif location == \"Epe\" and weight == 10 or weight > 10:\n",
    "    print(\"Your delivery payment is #5000\")\n",
    "elif location == \"Epe\" and weight < 10:\n",
    "    print(\"Your delivery payment is #4000\")\n",
    "else:\n",
    "    print(\"Please put in either of the locations above in the correct spelling\")\n",
    "    "
   ]
  },
  {
   "cell_type": "code",
   "execution_count": 12,
   "id": "b1ad5a54",
   "metadata": {},
   "outputs": [
    {
     "ename": "SyntaxError",
     "evalue": "invalid syntax (3643263296.py, line 56)",
     "output_type": "error",
     "traceback": [
      "\u001b[1;36m  Cell \u001b[1;32mIn[12], line 56\u001b[1;36m\u001b[0m\n\u001b[1;33m    df.to.not-admitted_csv\u001b[0m\n\u001b[1;37m          ^\u001b[0m\n\u001b[1;31mSyntaxError\u001b[0m\u001b[1;31m:\u001b[0m invalid syntax\n"
     ]
    }
   ],
   "source": [
    "import pandas as pd\n",
    "\n",
    "def check_c():\n",
    "   j_score = input(\"What was your jamb score? \")\n",
    "   print(\"Write your grade(A,B,C,D,E,F) in the following subjects: \")\n",
    "   M = input(\"Mathematics \")\n",
    "   P = input(\"Physics \")\n",
    "   B = input(\"ICT \")\n",
    "   C = input(\"Chemistry \")\n",
    "   E = input(\"English Language \")\n",
    "\n",
    "   interview = input(\"Did you pass the interview ( y or n)\")\n",
    "\n",
    "   if M == \"A\" or M == \"B\" or M == \"C\" and P == \"A\" or P == \"B\" or P == \"C\" and B == \"A\" or B == \"B\" or B == \"C\" and C == \"A\" or C == \"B\" or C == \"C\" and E == \"A\" or E == \"B\" or E == \"C\" and interview == \"y\":\n",
    "      print(\"You are successfully admitted to study Computer Science!!\")\n",
    "      data[\"FIRSTNAME\"] = [name1]\n",
    "      data[\"SURNAME\"] = [name2]\n",
    "      data[\"COURSE\"] = [course]\n",
    "      data[\"JAMB_SCORE\"] = [j_score]\n",
    "      data[\"MATHEMATICS\"] = [M]\n",
    "      data[\"PHYSICS\"] = [P]\n",
    "      data[\"ICT\"] = [B]\n",
    "      data[\"CHEMISTRY\"] = [C]\n",
    "      data[\"ENGLISH LANGUAGE\"] = [E]\n",
    "      df = pd.DataFrame(data)\n",
    "      df.to.admitted_csv\n",
    "   else:\n",
    "      print(\"Unfortunately you did not make it\")\n",
    "    \n",
    "\n",
    "def check_m():\n",
    "   j_score = input(\"What was your jamb score? \")\n",
    "   print(\"Write your grade(A,B,C,D,E,F) in the following subjects: \")\n",
    "   m = input(\"Mathematics \")\n",
    "   L = input(\"Literature \")\n",
    "   G = input(\"Government \")\n",
    "   B = input(\"Bible Knowledge \")\n",
    "   e = input(\"English Language \")\n",
    "\n",
    "   interview = input(\"Did you pass the interview ( y or n)\")\n",
    "   y = \"yes\"\n",
    "   n = \"no\"\n",
    "\n",
    "   if m == \"A\" or m == \"B\" or m == \"C\" and L == \"A\" or L == \"B\" or L == \"C\" and G == \"A\" or G == \"B\" or G == \"C\" and B == \"A\" or B == \"B\" or B == \"C\" and e == \"A\" or e == \"B\" or e == \"C\" and interview == \"y\" and j_score == 230 or j_score > 230:\n",
    "    print(\"You are successfully admitted to study Mass Communication!!\")\n",
    "    data[\"FIRSTNAME\"] = [name1]\n",
    "    data[\"SURNAME\"] = [name2]\n",
    "    data[\"COURSE\"] = [course]\n",
    "    data[\"JAMB_SCORE\"] = [j_score]\n",
    "    data[\"MATHEMATICS\"] = [m]\n",
    "    data[\"LITERATURE\"] = [L]\n",
    "    data[\"GOVERNMENT\"] = [G]\n",
    "    data[\"BIBLE KNOWLEDGE\"] = [B]\n",
    "    data[\"ENGLISH LANGUAGE\"] = [e]\n",
    "    df = pd.DataFrame(data)\n",
    "    df.to.not-admitted_csv\n",
    "    \n",
    "   else:\n",
    "    print(\"Unfortunately you did not make it\")\n",
    "    \n",
    "print(\"Welcome! this program checks your requirement for admission into either computer science or mass communication\")\n",
    "name1 = input(\"What is your firstname?\")\n",
    "name2 = input(\"What is your surname?\")\n",
    "course = input(\"What course are you applying for? (C for Computer Science and M for Mass Communication)\")\n",
    "\n",
    "if course == \"C\":\n",
    "    check_c()\n",
    "elif course == \"M\":\n",
    "    check_m()\n",
    "else:\n",
    "    print(\"Please choose one of the letters C or M\")\n",
    "\n"
   ]
  },
  {
   "cell_type": "code",
   "execution_count": null,
   "id": "f79157bb",
   "metadata": {},
   "outputs": [],
   "source": []
  },
  {
   "cell_type": "code",
   "execution_count": null,
   "id": "8cf1c97d",
   "metadata": {},
   "outputs": [],
   "source": []
  },
  {
   "cell_type": "code",
   "execution_count": null,
   "id": "52ddf9c3",
   "metadata": {},
   "outputs": [],
   "source": []
  },
  {
   "cell_type": "code",
   "execution_count": null,
   "id": "bba3fc20",
   "metadata": {},
   "outputs": [],
   "source": []
  },
  {
   "cell_type": "code",
   "execution_count": null,
   "id": "40ea6928",
   "metadata": {},
   "outputs": [],
   "source": []
  },
  {
   "cell_type": "code",
   "execution_count": null,
   "id": "24dd408a",
   "metadata": {},
   "outputs": [],
   "source": []
  },
  {
   "cell_type": "code",
   "execution_count": null,
   "id": "9c405fcd",
   "metadata": {},
   "outputs": [],
   "source": []
  }
 ],
 "metadata": {
  "kernelspec": {
   "display_name": "Python 3 (ipykernel)",
   "language": "python",
   "name": "python3"
  },
  "language_info": {
   "codemirror_mode": {
    "name": "ipython",
    "version": 3
   },
   "file_extension": ".py",
   "mimetype": "text/x-python",
   "name": "python",
   "nbconvert_exporter": "python",
   "pygments_lexer": "ipython3",
   "version": "3.10.9"
  }
 },
 "nbformat": 4,
 "nbformat_minor": 5
}
