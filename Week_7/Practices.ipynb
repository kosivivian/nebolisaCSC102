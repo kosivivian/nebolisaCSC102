{
 "cells": [
  {
   "cell_type": "code",
   "execution_count": 4,
   "id": "05829583",
   "metadata": {},
   "outputs": [],
   "source": [
    "def printme(str):\n",
    "    # this is a print function\n",
    "    print (str);\n",
    "    return;\n",
    "printme(\"I'm first call to user defined function!\");\n",
    "printme(\"Again second call to the same function\");\n",
    "    \n",
    "    "
   ]
  },
  {
   "cell_type": "code",
   "execution_count": 8,
   "id": "9017267f",
   "metadata": {},
   "outputs": [
    {
     "name": "stdout",
     "output_type": "stream",
     "text": [
      "Values inside the function:  [10, 20, 30, [1, 2, 3, 4]]\n",
      "Values outside the function:  [10, 20, 30, [1, 2, 3, 4]]\n"
     ]
    }
   ],
   "source": [
    "def changeme():\n",
    "    #this changes a passed list\n",
    "    mylist.append([1,2,3,4])\n",
    "    print(\"Values inside the function: \", mylist)\n",
    "    return\n",
    "mylist = [10,20,30]\n",
    "changeme()\n",
    "print(\"Values outside the function: \", mylist)\n"
   ]
  },
  {
   "cell_type": "code",
   "execution_count": null,
   "id": "6b656f0b",
   "metadata": {},
   "outputs": [],
   "source": [
    "def changeme(mylist):\n",
    "    #this changes a passed list\n",
    "    mylist = [1,2,3,4]\n",
    "    print(\"values inside the function: \", mylist)\n",
    "    return\n",
    "mylist = [10,20,30];\n",
    "changeme( mylist );\n",
    "print(\"values outside the function: \", mylist)\n"
   ]
  },
  {
   "cell_type": "code",
   "execution_count": 9,
   "id": "b288bfa2",
   "metadata": {},
   "outputs": [
    {
     "name": "stdout",
     "output_type": "stream",
     "text": [
      "<class 'str'>\n"
     ]
    }
   ],
   "source": [
    "def printme(str):\n",
    "    #this prints a passed string\n",
    "    print(str);\n",
    "    return;\n",
    "printme(str);"
   ]
  },
  {
   "cell_type": "code",
   "execution_count": 10,
   "id": "51cb80ca",
   "metadata": {},
   "outputs": [
    {
     "name": "stdout",
     "output_type": "stream",
     "text": [
      "My string\n"
     ]
    }
   ],
   "source": [
    "def printme(str):\n",
    "    #this prints a passed string\n",
    "    print (str);\n",
    "    return;\n",
    "printme( str = \"My string\");\n",
    "    "
   ]
  },
  {
   "cell_type": "code",
   "execution_count": 14,
   "id": "56d81d63",
   "metadata": {},
   "outputs": [
    {
     "name": "stdout",
     "output_type": "stream",
     "text": [
      "name:  miki\n",
      "age:  12\n"
     ]
    }
   ],
   "source": [
    "def printinfo(name, age):\n",
    "    #test function\n",
    "    print (\"name: \", name);\n",
    "    print (\"age: \", age);\n",
    "    return;\n",
    "printinfo( age = 12 ,name=\"miki\")"
   ]
  },
  {
   "cell_type": "code",
   "execution_count": 15,
   "id": "54076152",
   "metadata": {},
   "outputs": [
    {
     "name": "stdout",
     "output_type": "stream",
     "text": [
      "name:  miki\n",
      "age:  50\n",
      "name:  miki\n",
      "age:  35\n"
     ]
    }
   ],
   "source": [
    "def printinfo( name, age = 35):\n",
    "    #test function\n",
    "    print(\"name: \", name);\n",
    "    print(\"age: \", age);\n",
    "    return;\n",
    "printinfo(age=50, name=\"miki\")\n",
    "printinfo(name=\"miki\");"
   ]
  },
  {
   "cell_type": "code",
   "execution_count": 16,
   "id": "7ed650aa",
   "metadata": {},
   "outputs": [
    {
     "name": "stdout",
     "output_type": "stream",
     "text": [
      "output is: \n",
      "10\n",
      "output is: \n",
      "70\n",
      "60\n"
     ]
    }
   ],
   "source": [
    "def printinfo(arg1, *vartuple):\n",
    "    #this is test\n",
    "    print(\"output is: \")\n",
    "    print(arg1)\n",
    "    for var in vartuple:\n",
    "        print(var)\n",
    "        return;\n",
    "printinfo(10);\n",
    "printinfo(70,60,50);"
   ]
  },
  {
   "cell_type": "code",
   "execution_count": 17,
   "id": "c9c0b7ca",
   "metadata": {},
   "outputs": [
    {
     "name": "stdout",
     "output_type": "stream",
     "text": [
      "inside the function local total:  30\n",
      "outside the function global total:  50\n"
     ]
    }
   ],
   "source": [
    "total = 50; #this is global variable\n",
    "def sum(arg1, arg2):\n",
    "    #add both the parameters\n",
    "    total = arg1 + arg2\n",
    "    print(\"inside the function local total: \",total)\n",
    "    return total;\n",
    "#now you can call sum function\n",
    "sum(10, 20);\n",
    "print(\"outside the function global total: \",total)\n"
   ]
  },
  {
   "cell_type": "code",
   "execution_count": 18,
   "id": "b9de7929",
   "metadata": {},
   "outputs": [
    {
     "name": "stdout",
     "output_type": "stream",
     "text": [
      "Lawal Edward Tolu Tina\n",
      "Mary\n"
     ]
    }
   ],
   "source": [
    "def swap(x,y):\n",
    "    global a\n",
    "    a = \"Lawal\"\n",
    "    x,y = y,x\n",
    "    b = \"Chris\"\n",
    "    b = \"Edward\"\n",
    "    c = \"Lola\"\n",
    "    print(a,b,x,y)\n",
    "    a = \"Mary\"\n",
    "swap(\"Tina\",\"Tolu\")\n",
    "print (a)\n",
    "    "
   ]
  },
  {
   "cell_type": "code",
   "execution_count": null,
   "id": "deb124e0",
   "metadata": {},
   "outputs": [],
   "source": []
  }
 ],
 "metadata": {
  "kernelspec": {
   "display_name": "Python 3 (ipykernel)",
   "language": "python",
   "name": "python3"
  },
  "language_info": {
   "codemirror_mode": {
    "name": "ipython",
    "version": 3
   },
   "file_extension": ".py",
   "mimetype": "text/x-python",
   "name": "python",
   "nbconvert_exporter": "python",
   "pygments_lexer": "ipython3",
   "version": "3.10.9"
  }
 },
 "nbformat": 4,
 "nbformat_minor": 5
}
