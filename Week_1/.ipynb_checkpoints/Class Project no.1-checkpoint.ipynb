{
 "cells": [
  {
   "cell_type": "code",
   "execution_count": null,
   "id": "867872d3",
   "metadata": {},
   "outputs": [
    {
     "name": "stdout",
     "output_type": "stream",
     "text": [
      "Hello welcome to the Calculator\n",
      "This program allows you to carry out simple interest calculations\n",
      "Enter the principal amount: \n"
     ]
    }
   ],
   "source": [
    "#allowing users to type in their input\n",
    "print(\"Hello welcome to the Calculator\")\n",
    "print(\"This program allows you to carry out simple interest calculations\")\n",
    "print(\"Enter the principal amount: \")\n",
    "P = int(input())\n",
    "print(\"Enter the rate of interest: (let the number be in 1dp)\")\n",
    "R = float(input())\n",
    "print(\"Enter the number of years: (let the number be in 1dp)\")\n",
    "T = float(input())\n",
    "A = P*(1 + (R/100)*T)\n",
    "print(\"\\nSimple Interest Amount: \")\n",
    "print(A)\n"
   ]
  },
  {
   "cell_type": "code",
   "execution_count": null,
   "id": "3aded0db",
   "metadata": {},
   "outputs": [],
   "source": [
    "print(\"Hello! Welcome to the calculator\")\n",
    "print(\"This program allows you to carry out compound interest calculator\")\n",
    "print(\"Enter the principal amount: \")\n",
    "P = int(input())\n",
    "print(\"Enter the rate of interest: (let the number be in 1dp)\")\n",
    "R = float(input())\n",
    "print(\"Enter the number of years: (let the number be in 1dp)\")\n",
    "t = float(input())\n",
    "print(\"Enter the number of times compounded in a year: (let the number be in 1dp)\")\n",
    "n = float(input())\n",
    "A = P*(1 + (R/n))^(nt)\n",
    "print(\"\\nCompound Interest Amount: \")\n",
    "print(A)\n"
   ]
  },
  {
   "cell_type": "code",
   "execution_count": null,
   "id": "c0633a4b",
   "metadata": {},
   "outputs": [],
   "source": []
  },
  {
   "cell_type": "code",
   "execution_count": null,
   "id": "00153c7e",
   "metadata": {},
   "outputs": [],
   "source": []
  }
 ],
 "metadata": {
  "kernelspec": {
   "display_name": "Python 3 (ipykernel)",
   "language": "python",
   "name": "python3"
  },
  "language_info": {
   "codemirror_mode": {
    "name": "ipython",
    "version": 3
   },
   "file_extension": ".py",
   "mimetype": "text/x-python",
   "name": "python",
   "nbconvert_exporter": "python",
   "pygments_lexer": "ipython3",
   "version": "3.10.9"
  }
 },
 "nbformat": 4,
 "nbformat_minor": 5
}
