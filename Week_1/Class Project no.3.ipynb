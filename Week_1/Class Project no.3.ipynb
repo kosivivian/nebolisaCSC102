{
 "cells": [
  {
   "cell_type": "code",
   "execution_count": 3,
   "id": "e28b7b99",
   "metadata": {},
   "outputs": [
    {
     "name": "stdout",
     "output_type": "stream",
     "text": [
      "Hello! Welcome to the Calculator\n",
      "This program allows you to carry out annuity plan calculations\n",
      "Enter the principal amount: \n",
      "5000\n",
      "Enter the rate of interest: \n",
      "6\n",
      "Enter the number of years: \n",
      "4\n",
      "Enter the number of times compounded in a year: \n",
      "2\n"
     ]
    },
    {
     "ename": "TypeError",
     "evalue": "unsupported operand type(s) for ^: 'float' and 'int'",
     "output_type": "error",
     "traceback": [
      "\u001b[1;31m---------------------------------------------------------------------------\u001b[0m",
      "\u001b[1;31mTypeError\u001b[0m                                 Traceback (most recent call last)",
      "Cell \u001b[1;32mIn[3], line 11\u001b[0m\n\u001b[0;32m      9\u001b[0m \u001b[38;5;28mprint\u001b[39m(\u001b[38;5;124m\"\u001b[39m\u001b[38;5;124mEnter the number of times compounded in a year: \u001b[39m\u001b[38;5;124m\"\u001b[39m)\n\u001b[0;32m     10\u001b[0m n \u001b[38;5;241m=\u001b[39m \u001b[38;5;28mint\u001b[39m(\u001b[38;5;28minput\u001b[39m())\n\u001b[1;32m---> 11\u001b[0m A \u001b[38;5;241m=\u001b[39m P\u001b[38;5;241m*\u001b[39m((\u001b[43m(\u001b[49m\u001b[38;5;241;43m1\u001b[39;49m\u001b[43m \u001b[49m\u001b[38;5;241;43m+\u001b[39;49m\u001b[43m \u001b[49m\u001b[43m(\u001b[49m\u001b[43mR\u001b[49m\u001b[38;5;241;43m/\u001b[39;49m\u001b[43mn\u001b[49m\u001b[43m)\u001b[49m\u001b[43m)\u001b[49m\u001b[38;5;241;43m^\u001b[39;49m\u001b[43m(\u001b[49m\u001b[43mn\u001b[49m\u001b[38;5;241;43m*\u001b[39;49m\u001b[43mt\u001b[49m\u001b[43m)\u001b[49m\u001b[43m \u001b[49m\u001b[38;5;241;43m-\u001b[39;49m\u001b[43m \u001b[49m\u001b[38;5;241;43m1\u001b[39;49m)\u001b[38;5;241m/\u001b[39m(R\u001b[38;5;241m/\u001b[39mn))\n",
      "\u001b[1;31mTypeError\u001b[0m: unsupported operand type(s) for ^: 'float' and 'int'"
     ]
    }
   ],
   "source": [
    "print(\"Hello! Welcome to the Calculator\")\n",
    "print(\"This program allows you to carry out annuity plan calculations\")\n",
    "print(\"Enter the principal amount: \")\n",
    "P = int(input())\n",
    "print(\"Enter the rate of interest: \")\n",
    "R = int(input())\n",
    "print(\"Enter the number of years: \")\n",
    "t = int(input())\n",
    "print(\"Enter the number of times compounded in a year: \")\n",
    "n = int(input())\n",
    "A = P*(((1 + (R/n))^(n*t) - 1)/(R/n))"
   ]
  },
  {
   "cell_type": "code",
   "execution_count": null,
   "id": "2fa28ef2",
   "metadata": {},
   "outputs": [],
   "source": []
  },
  {
   "cell_type": "code",
   "execution_count": null,
   "id": "62ca72f9",
   "metadata": {},
   "outputs": [],
   "source": []
  }
 ],
 "metadata": {
  "kernelspec": {
   "display_name": "Python 3 (ipykernel)",
   "language": "python",
   "name": "python3"
  },
  "language_info": {
   "codemirror_mode": {
    "name": "ipython",
    "version": 3
   },
   "file_extension": ".py",
   "mimetype": "text/x-python",
   "name": "python",
   "nbconvert_exporter": "python",
   "pygments_lexer": "ipython3",
   "version": "3.10.9"
  }
 },
 "nbformat": 4,
 "nbformat_minor": 5
}
