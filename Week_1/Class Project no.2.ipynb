{
 "cells": [
  {
   "cell_type": "code",
   "execution_count": 1,
   "id": "be207661",
   "metadata": {},
   "outputs": [
    {
     "name": "stdout",
     "output_type": "stream",
     "text": [
      "Hello! Welcome to the calculator\n",
      "This program allows you to carry out compound interest calculator\n",
      "Enter the principal amount: \n",
      "4000\n",
      "Enter the rate of interest: (let the number be in 1dp)\n",
      "6.0\n",
      "Enter the number of years: (let the number be in 1dp)\n",
      "3.0\n",
      "Enter the number of times compounded in a year: (let the number be in 1dp)\n",
      "2.0\n"
     ]
    },
    {
     "ename": "NameError",
     "evalue": "name 'nt' is not defined",
     "output_type": "error",
     "traceback": [
      "\u001b[1;31m---------------------------------------------------------------------------\u001b[0m",
      "\u001b[1;31mNameError\u001b[0m                                 Traceback (most recent call last)",
      "Cell \u001b[1;32mIn[1], line 11\u001b[0m\n\u001b[0;32m      9\u001b[0m \u001b[38;5;28mprint\u001b[39m(\u001b[38;5;124m\"\u001b[39m\u001b[38;5;124mEnter the number of times compounded in a year: (let the number be in 1dp)\u001b[39m\u001b[38;5;124m\"\u001b[39m)\n\u001b[0;32m     10\u001b[0m n \u001b[38;5;241m=\u001b[39m \u001b[38;5;28mfloat\u001b[39m(\u001b[38;5;28minput\u001b[39m())\n\u001b[1;32m---> 11\u001b[0m A \u001b[38;5;241m=\u001b[39m P\u001b[38;5;241m*\u001b[39m(\u001b[38;5;241m1\u001b[39m \u001b[38;5;241m+\u001b[39m (R\u001b[38;5;241m/\u001b[39mn))\u001b[38;5;241m^\u001b[39m(\u001b[43mnt\u001b[49m)\n\u001b[0;32m     12\u001b[0m \u001b[38;5;28mprint\u001b[39m(\u001b[38;5;124m\"\u001b[39m\u001b[38;5;130;01m\\n\u001b[39;00m\u001b[38;5;124mCompound Interest Amount: \u001b[39m\u001b[38;5;124m\"\u001b[39m)\n\u001b[0;32m     13\u001b[0m \u001b[38;5;28mprint\u001b[39m(A)\n",
      "\u001b[1;31mNameError\u001b[0m: name 'nt' is not defined"
     ]
    }
   ],
   "source": [
    "print(\"Hello! Welcome to the calculator\")\n",
    "print(\"This program allows you to carry out compound interest calculator\")\n",
    "print(\"Enter the principal amount: \")\n",
    "P = int(input())\n",
    "print(\"Enter the rate of interest: (let the number be in 1dp)\")\n",
    "R = float(input())\n",
    "print(\"Enter the number of years: (let the number be in 1dp)\")\n",
    "t = float(input())\n",
    "print(\"Enter the number of times compounded in a year: (let the number be in 1dp)\")\n",
    "n = float(input())\n",
    "A = P*(1 + (R/n))^(n*t)\n",
    "print(\"\\nCompound Interest Amount: \")\n",
    "print(A)"
   ]
  },
  {
   "cell_type": "code",
   "execution_count": null,
   "id": "867fe225",
   "metadata": {},
   "outputs": [],
   "source": []
  }
 ],
 "metadata": {
  "kernelspec": {
   "display_name": "Python 3 (ipykernel)",
   "language": "python",
   "name": "python3"
  },
  "language_info": {
   "codemirror_mode": {
    "name": "ipython",
    "version": 3
   },
   "file_extension": ".py",
   "mimetype": "text/x-python",
   "name": "python",
   "nbconvert_exporter": "python",
   "pygments_lexer": "ipython3",
   "version": "3.10.9"
  }
 },
 "nbformat": 4,
 "nbformat_minor": 5
}
