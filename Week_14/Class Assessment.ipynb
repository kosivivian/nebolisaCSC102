{
 "cells": [
  {
   "cell_type": "code",
   "execution_count": null,
   "id": "4ab742f8",
   "metadata": {},
   "outputs": [
    {
     "name": "stdout",
     "output_type": "stream",
     "text": [
      "Welcome! This program manages details of student and saves your input to an excel file\n"
     ]
    }
   ],
   "source": [
    "import pandas as pd\n",
    "print(\"Welcome! This program manages details of student and saves your input to an excel file\")\n",
    "def process():\n",
    "    nam = input(\"Enter your fullname: \")\n",
    "    no = input(\"Enter your matric number: \")\n",
    "    dep = input(\"Enter your department: \")\n",
    "    lev = input(\"Enter your level: \")\n",
    "\n",
    "    data = pd.DataFrame(columns=['Student Name', 'Matric. Number', 'Department', 'Level'])\n",
    "\n",
    "    \n",
    "process()\n",
    "user_data = {'Student Name':[nam], 'Matric. Number':[no], 'Departent':[dep], 'Level':[lev]}\n",
    "\n",
    "\n",
    "data = data.append(pd.DataFrame(user_data), ignore_index=True)\n",
    "data.to_csv(\"PAU_SMIS.csv\")\n",
    "print(data)\n",
    "print(\"Your file has been saved to excel\")\n",
    "\n",
    "dec = input(\"Do you want to input another detail?(y or n) \")\n",
    "\n",
    "while dec == \"y\":\n",
    "    process()\n",
    "    user_data = {'Student Name':[nam], 'Matric. Number':[no], 'Departent':[dep], 'Level':[lev]}\n",
    "    df = data.append(pd.DataFrame(user_data), ignore_index=True)\n",
    "    df.to_csv(\"PAU_SMIS.csv\")\n",
    "    print(df)\n",
    "    print(\"Your file has been saved to csv\")\n",
    "    if dec == \"n\":\n",
    "        break\n",
    "    \n",
    "        print(\"Thank you for your time\")\n",
    "    \n",
    "    \n"
   ]
  },
  {
   "cell_type": "code",
   "execution_count": 23,
   "id": "a2687192",
   "metadata": {},
   "outputs": [
    {
     "name": "stdout",
     "output_type": "stream",
     "text": [
      "Your file has been saved to excel\n"
     ]
    }
   ],
   "source": [
    "import pandas as pd\n",
    "print(\"Welcome! This program)\n",
    "dict = {'Company':['Enron','Anderson','GK Jones','Mica','Dune'],\n",
    "       'Date Founded':[1987, 1936, 2001, 1996, 2008],\n",
    "       'Companys shares':[1000000, 1500000, 3000000, 250000, 800000],\n",
    "       'Companys liabilities':[200000, 500000, 1500000, 50000, 300000],\n",
    "       'Percentage leverage':['80.00%','66.67%','50%','80%','62.5%']}\n",
    "data = pd.DataFrame(dict)\n",
    "data.to_csv(\"File.csv\")\n",
    "data\n",
    "print(\"Your file has been saved to excel\")"
   ]
  },
  {
   "cell_type": "code",
   "execution_count": null,
   "id": "fa6e4e50",
   "metadata": {},
   "outputs": [],
   "source": []
  }
 ],
 "metadata": {
  "kernelspec": {
   "display_name": "Python 3 (ipykernel)",
   "language": "python",
   "name": "python3"
  },
  "language_info": {
   "codemirror_mode": {
    "name": "ipython",
    "version": 3
   },
   "file_extension": ".py",
   "mimetype": "text/x-python",
   "name": "python",
   "nbconvert_exporter": "python",
   "pygments_lexer": "ipython3",
   "version": "3.10.9"
  }
 },
 "nbformat": 4,
 "nbformat_minor": 5
}
