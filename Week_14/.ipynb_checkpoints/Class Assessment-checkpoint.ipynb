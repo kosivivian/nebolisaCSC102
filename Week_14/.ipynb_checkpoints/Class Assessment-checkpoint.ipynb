{
 "cells": [
  {
   "cell_type": "code",
   "execution_count": 18,
   "id": "4ab742f8",
   "metadata": {},
   "outputs": [
    {
     "name": "stdout",
     "output_type": "stream",
     "text": [
      "Enter your fullnamemm\n",
      "Enter your matric numbermm\n",
      "Enter your departmentmm\n",
      "Enter your levelmm\n"
     ]
    },
    {
     "name": "stderr",
     "output_type": "stream",
     "text": [
      "C:\\Users\\kossy\\AppData\\Local\\Temp\\ipykernel_20276\\4121463944.py:11: FutureWarning: The frame.append method is deprecated and will be removed from pandas in a future version. Use pandas.concat instead.\n",
      "  data = data.append(pd.DataFrame(user_data), ignore_index=True)\n"
     ]
    },
    {
     "name": "stdout",
     "output_type": "stream",
     "text": [
      "Your file has been saved to excel\n"
     ]
    }
   ],
   "source": [
    "import pandas as pd\n",
    "nam = input(\"Enter your fullname\")\n",
    "no = input(\"Enter your matric number\")\n",
    "dep = input(\"Enter your department\")\n",
    "lev = input(\"Enter your level\")\n",
    "\n",
    "data = pd.DataFrame(columns=['Student Name', 'Matric. Number', 'Department', 'Level'])\n",
    "user_data = {'Student Name':[nam], 'Matric. Number':[no], 'Departent':[dep], 'Level':[lev]}\n",
    "\n",
    "\n",
    "data = data.append(pd.DataFrame(user_data), ignore_index=True)\n",
    "file_path = \"C:\\\\Users\\\\kossy\\\\Downloads\\\\nebolisaCSC102\\\\Week_14\\\\PAU_SMIS.xlsx\"\n",
    "data.to_excel(file_path, index=True)\n",
    "print(\"Your file has been saved to excel\")"
   ]
  },
  {
   "cell_type": "code",
   "execution_count": 19,
   "id": "a2687192",
   "metadata": {},
   "outputs": [],
   "source": [
    "import pandas as pd\n",
    "dict = {'Company':['Enron','Anderson','GK Jones','Mica','Dune'],\n",
    "       'Date Founded':[1987, 1936, 2001, 1996, 2008],\n",
    "       'Companys shares':[1000000, 1500000, 3000000, 250000, 800000],\n",
    "       'Companys liabilities':[200000, 500000, 1500000, 50000, 300000],\n",
    "       'Percentage leverage':['80.00%','66.67%','50%','80%','62.5%']}\n",
    "data = pd.DataFrame(dict)\n",
    "data\n",
    "path = \"PAU_SMIS.xlsx\"\n",
    "data.to_excel(path, index=True)"
   ]
  },
  {
   "cell_type": "code",
   "execution_count": null,
   "id": "fa6e4e50",
   "metadata": {},
   "outputs": [],
   "source": []
  }
 ],
 "metadata": {
  "kernelspec": {
   "display_name": "Python 3 (ipykernel)",
   "language": "python",
   "name": "python3"
  },
  "language_info": {
   "codemirror_mode": {
    "name": "ipython",
    "version": 3
   },
   "file_extension": ".py",
   "mimetype": "text/x-python",
   "name": "python",
   "nbconvert_exporter": "python",
   "pygments_lexer": "ipython3",
   "version": "3.10.9"
  }
 },
 "nbformat": 4,
 "nbformat_minor": 5
}
